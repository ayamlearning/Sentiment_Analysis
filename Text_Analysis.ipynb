{
 "cells": [
  {
   "cell_type": "code",
   "execution_count": 1,
   "metadata": {},
   "outputs": [],
   "source": [
    "import nltk\n",
    "from nltk.corpus import stopwords \n",
    "from nltk.tokenize import word_tokenize \n",
    "from nltk.tokenize import RegexpTokenizer\n",
    "from google.cloud.language import enums\n",
    "from google.cloud.language import types\n",
    "import six\n",
    "from google.cloud import storage\n",
    "from google.cloud import language\n",
    "from google.oauth2 import service_account\n",
    "import numpy as np\n",
    "from matplotlib import pyplot as plt"
   ]
  },
  {
   "cell_type": "code",
   "execution_count": 2,
   "metadata": {},
   "outputs": [
    {
     "name": "stdout",
     "output_type": "stream",
     "text": [
      "[nltk_data] Downloading package averaged_perceptron_tagger to\n",
      "[nltk_data]     /home/jono/nltk_data...\n",
      "[nltk_data]   Package averaged_perceptron_tagger is already up-to-\n",
      "[nltk_data]       date!\n",
      "[nltk_data] Downloading package punkt to /home/jono/nltk_data...\n",
      "[nltk_data]   Package punkt is already up-to-date!\n",
      "[nltk_data] Downloading package stopwords to /home/jono/nltk_data...\n",
      "[nltk_data]   Package stopwords is already up-to-date!\n"
     ]
    }
   ],
   "source": [
    "nltk.download('averaged_perceptron_tagger')\n",
    "nltk.download('punkt')\n",
    "nltk.download('stopwords')\n",
    "stop_words = set(stopwords.words('english'))"
   ]
  },
  {
   "cell_type": "code",
   "execution_count": 47,
   "metadata": {},
   "outputs": [],
   "source": [
    "#google cloud nlp api which we will use for speach tagging and extracting keywords\n",
    "#You will need a json file from google to use their language API\n",
    "creds = service_account.Credentials.from_service_account_file('xxxxxx.json')\n",
    "client = language.LanguageServiceClient(credentials=creds)"
   ]
  },
  {
   "cell_type": "code",
   "execution_count": 48,
   "metadata": {},
   "outputs": [],
   "source": [
    "#removing stop words from a sentence, special characters and dublicates\n",
    "def preprocess(sentence):\n",
    "    sentence = remove_special_characters(sentence)\n",
    "    word_tokens = word_tokenize(sentence)\n",
    "    filtered_words = [w for w in word_tokens if not w in stopwords.words('english')]\n",
    "    \n",
    "    return remove_dublicates_words(\" \".join(filtered_words))"
   ]
  },
  {
   "cell_type": "code",
   "execution_count": 49,
   "metadata": {},
   "outputs": [],
   "source": [
    "#removing stop words from a sentence and special characters\n",
    "def preprocess_with_dublicates(sentence):\n",
    "    sentence = remove_special_characters(sentence)\n",
    "    word_tokens = word_tokenize(sentence)\n",
    "    filtered_words = [w for w in word_tokens if not w in stopwords.words('english')]\n",
    "    \n",
    "    return \" \".join(filtered_words)"
   ]
  },
  {
   "cell_type": "code",
   "execution_count": 50,
   "metadata": {},
   "outputs": [],
   "source": [
    "#removing dublicate words in a sentence\n",
    "def remove_dublicates_words(sent):\n",
    "    word_tokens = word_tokenize(sent)\n",
    "    tokens_list=[]\n",
    "    for w in word_tokens:\n",
    "        if w not in tokens_list:\n",
    "            tokens_list.append(w)\n",
    "    return \" \".join(tokens_list)"
   ]
  },
  {
   "cell_type": "code",
   "execution_count": 51,
   "metadata": {},
   "outputs": [],
   "source": [
    "#Removing special characters\n",
    "def remove_special_characters(s):\n",
    "    tokenizer = nltk.RegexpTokenizer('[a-zA-Z]\\w+\\'?\\w*')\n",
    "    tokens= tokenizer.tokenize(s)\n",
    "    return \" \".join(tokens)"
   ]
  },
  {
   "cell_type": "code",
   "execution_count": 52,
   "metadata": {},
   "outputs": [],
   "source": [
    "#for each word, we return the word and the number of its appearances\n",
    "def word_count(sent):\n",
    "    word_tokens = word_tokenize(remove_special_characters(sent))\n",
    "    non_dublicate_tokens=word_tokenize(remove_dublicates_words(remove_special_characters(sent)))\n",
    "    word_count={}\n",
    "    for n in non_dublicate_tokens:\n",
    "        count=0\n",
    "        for w in word_tokens:\n",
    "            if n.lower() == w.lower():\n",
    "                count+=1\n",
    "        word_count[n]=count\n",
    "        \n",
    "    return word_count\n",
    "        "
   ]
  },
  {
   "cell_type": "code",
   "execution_count": 98,
   "metadata": {},
   "outputs": [],
   "source": [
    "def plot_word_frequency(text):\n",
    "    x=word_count(text)\n",
    "    lst_labels=[]\n",
    "    lst_values=[]\n",
    "\n",
    "    for k,v in x.items():\n",
    "        if(v>1):\n",
    "            lst_labels.append(k)\n",
    "            lst_values.append(v)\n",
    "\n",
    "    # sort your values in descending order\n",
    "    indSort = np.argsort(lst_values)[::-1]\n",
    "\n",
    "    # rearrange your data\n",
    "    labels = np.array(lst_labels)[indSort]\n",
    "    values = np.array(lst_values)[indSort]\n",
    "\n",
    "    indexes = np.arange(len(labels))\n",
    "\n",
    "    bar_width = 0.\n",
    "\n",
    "    plt.bar(indexes, values)\n",
    "\n",
    "    # add labels\n",
    "    plt.xticks(indexes + bar_width, labels)\n",
    "    plt.show()"
   ]
  },
  {
   "cell_type": "code",
   "execution_count": 99,
   "metadata": {},
   "outputs": [],
   "source": [
    "def syntax_text(text):\n",
    "    my_token_list=[]\n",
    "    my_key_words=[]\n",
    "    \n",
    "    my_token_dict={}\n",
    "    my_keywords_dict={}\n",
    "    \n",
    "    if isinstance(text, six.binary_type):\n",
    "        text = text.decode('utf-8')\n",
    "\n",
    "    # Instantiates a plain text document.\n",
    "    document = types.Document(\n",
    "        content=text,\n",
    "        type=enums.Document.Type.PLAIN_TEXT)\n",
    "\n",
    "    # Detects syntax in the document. You can also analyze HTML with:\n",
    "    #   document.type == enums.Document.Type.HTML\n",
    "    tokens = client.analyze_syntax(document).tokens\n",
    "\n",
    "    # part-of-speech tags from enums.PartOfSpeech.Tag\n",
    "    pos_tag = ('UNKNOWN', 'ADJ', 'ADP', 'ADV', 'CONJ', 'DET', 'NOUN', 'NUM',\n",
    "               'PRON', 'PRT', 'PUNCT', 'VERB', 'X', 'AFFIX')\n",
    "    for token in tokens:\n",
    "        my_token_list.append((pos_tag[token.part_of_speech.tag],\n",
    "                               token.text.content))\n",
    "        \n",
    "        if pos_tag[token.part_of_speech.tag]=='NOUN':\n",
    "            my_key_words.append(token.text.content)\n",
    "            \n",
    "    my_token_dict['Token_Tags']= my_token_list\n",
    "    my_keywords_dict['keywords']=my_key_words\n",
    "    \n",
    "    return my_token_dict,my_keywords_dict"
   ]
  },
  {
   "cell_type": "code",
   "execution_count": 100,
   "metadata": {},
   "outputs": [],
   "source": [
    "#Extracts from an article on Jamal Khashoggi's case cited from https://www.bbc.com/news/world-europe-45812399 \n",
    "text=\"\"\"\n",
    "\n",
    "He first visited the Saudi consulate in Istanbul on 28 September to obtain a document certifying\n",
    "that he had divorced his ex-wife, so that he could marry his Turkish fiancée.\n",
    "\n",
    "But he was told he would have to return and arranged to come back on 2 October.\n",
    "\n",
    "\"He did not believe that something bad could happen on Turkish soil,\" his fiancée, \n",
    "Hatice Cengiz, wrote in the Washington Post.\n",
    "\n",
    "\"Jamal was hardly concerned ahead of his second visit.\"\n",
    "\n",
    "\"\"\""
   ]
  },
  {
   "cell_type": "code",
   "execution_count": 101,
   "metadata": {},
   "outputs": [
    {
     "data": {
      "text/plain": [
       "'He first visited Saudi consulate Istanbul September obtain document certifying divorced ex wife could marry Turkish fiancée But told would return arranged come back October believe something bad happen soil Hatice Cengiz wrote Washington Post Jamal hardly concerned ahead second visit'"
      ]
     },
     "execution_count": 101,
     "metadata": {},
     "output_type": "execute_result"
    }
   ],
   "source": [
    "#Here we remove dublicate words and special characters as well as english stop words\n",
    "preprocess(text)"
   ]
  },
  {
   "cell_type": "code",
   "execution_count": 102,
   "metadata": {},
   "outputs": [
    {
     "data": {
      "text/plain": [
       "'He first visited Saudi consulate Istanbul September obtain document certifying divorced ex wife could marry Turkish fiancée But told would return arranged come back October He believe something bad could happen Turkish soil fiancée Hatice Cengiz wrote Washington Post Jamal hardly concerned ahead second visit'"
      ]
     },
     "execution_count": 102,
     "metadata": {},
     "output_type": "execute_result"
    }
   ],
   "source": [
    "preprocess_with_dublicates(text)"
   ]
  },
  {
   "cell_type": "code",
   "execution_count": 103,
   "metadata": {},
   "outputs": [
    {
     "data": {
      "text/plain": [
       "{'keywords': ['consulate',\n",
       "  'Istanbul',\n",
       "  'September',\n",
       "  'document',\n",
       "  'ex',\n",
       "  'wife',\n",
       "  'fiancée',\n",
       "  'October',\n",
       "  'something',\n",
       "  'soil',\n",
       "  'Hatice',\n",
       "  'Cengiz',\n",
       "  'Washington',\n",
       "  'Post',\n",
       "  'Jamal',\n",
       "  'visit']}"
      ]
     },
     "execution_count": 103,
     "metadata": {},
     "output_type": "execute_result"
    }
   ],
   "source": [
    "#from the pre-processed text, we extract keywords\n",
    "syntax_text(preprocess(text))[1]"
   ]
  },
  {
   "cell_type": "code",
   "execution_count": 104,
   "metadata": {},
   "outputs": [
    {
     "data": {
      "text/plain": [
       "{'Token_Tags': [('PRON', 'He'),\n",
       "  ('ADV', 'first'),\n",
       "  ('VERB', 'visited'),\n",
       "  ('ADJ', 'Saudi'),\n",
       "  ('NOUN', 'consulate'),\n",
       "  ('NOUN', 'Istanbul'),\n",
       "  ('NOUN', 'September'),\n",
       "  ('VERB', 'obtain'),\n",
       "  ('NOUN', 'document'),\n",
       "  ('VERB', 'certifying'),\n",
       "  ('VERB', 'divorced'),\n",
       "  ('NOUN', 'ex'),\n",
       "  ('NOUN', 'wife'),\n",
       "  ('VERB', 'could'),\n",
       "  ('VERB', 'marry'),\n",
       "  ('ADJ', 'Turkish'),\n",
       "  ('NOUN', 'fiancée'),\n",
       "  ('CONJ', 'But'),\n",
       "  ('VERB', 'told'),\n",
       "  ('VERB', 'would'),\n",
       "  ('VERB', 'return'),\n",
       "  ('VERB', 'arranged'),\n",
       "  ('VERB', 'come'),\n",
       "  ('ADV', 'back'),\n",
       "  ('NOUN', 'October'),\n",
       "  ('VERB', 'believe'),\n",
       "  ('NOUN', 'something'),\n",
       "  ('ADJ', 'bad'),\n",
       "  ('VERB', 'happen'),\n",
       "  ('NOUN', 'soil'),\n",
       "  ('NOUN', 'Hatice'),\n",
       "  ('NOUN', 'Cengiz'),\n",
       "  ('VERB', 'wrote'),\n",
       "  ('NOUN', 'Washington'),\n",
       "  ('NOUN', 'Post'),\n",
       "  ('NOUN', 'Jamal'),\n",
       "  ('ADV', 'hardly'),\n",
       "  ('ADJ', 'concerned'),\n",
       "  ('ADP', 'ahead'),\n",
       "  ('ADJ', 'second'),\n",
       "  ('NOUN', 'visit')]}"
      ]
     },
     "execution_count": 104,
     "metadata": {},
     "output_type": "execute_result"
    }
   ],
   "source": [
    "#from the preprocessed text, for each word in the text we print the word and its corresponding tag\n",
    "syntax_text(preprocess(text))[0]"
   ]
  },
  {
   "cell_type": "code",
   "execution_count": 107,
   "metadata": {},
   "outputs": [
    {
     "data": {
      "image/png": "[encoded data removed]",
      "text/plain": [
       "<Figure size 432x288 with 1 Axes>"
      ]
     },
     "metadata": {},
     "output_type": "display_data"
    }
   ],
   "source": [
    "#plotting words with a frequency of more than 1\n",
    "plot_word_frequency(preprocess_with_dublicates(text))"
   ]
  },
  {
   "cell_type": "code",
   "execution_count": 108,
   "metadata": {},
   "outputs": [
    {
     "data": {
      "text/plain": [
       "{'He': 2,\n",
       " 'first': 1,\n",
       " 'visited': 1,\n",
       " 'Saudi': 1,\n",
       " 'consulate': 1,\n",
       " 'Istanbul': 1,\n",
       " 'September': 1,\n",
       " 'obtain': 1,\n",
       " 'document': 1,\n",
       " 'certifying': 1,\n",
       " 'divorced': 1,\n",
       " 'ex': 1,\n",
       " 'wife': 1,\n",
       " 'could': 2,\n",
       " 'marry': 1,\n",
       " 'Turkish': 2,\n",
       " 'fiancée': 2,\n",
       " 'But': 1,\n",
       " 'told': 1,\n",
       " 'would': 1,\n",
       " 'return': 1,\n",
       " 'arranged': 1,\n",
       " 'come': 1,\n",
       " 'back': 1,\n",
       " 'October': 1,\n",
       " 'believe': 1,\n",
       " 'something': 1,\n",
       " 'bad': 1,\n",
       " 'happen': 1,\n",
       " 'soil': 1,\n",
       " 'Hatice': 1,\n",
       " 'Cengiz': 1,\n",
       " 'wrote': 1,\n",
       " 'Washington': 1,\n",
       " 'Post': 1,\n",
       " 'Jamal': 1,\n",
       " 'hardly': 1,\n",
       " 'concerned': 1,\n",
       " 'ahead': 1,\n",
       " 'second': 1,\n",
       " 'visit': 1}"
      ]
     },
     "execution_count": 108,
     "metadata": {},
     "output_type": "execute_result"
    }
   ],
   "source": [
    "word_count(preprocess_with_dublicates(text))"
   ]
  },
  {
   "cell_type": "code",
   "execution_count": null,
   "metadata": {},
   "outputs": [],
   "source": []
  }
 ],
 "metadata": {
  "kernelspec": {
   "display_name": "Python 3",
   "language": "python",
   "name": "python3"
  },
  "language_info": {
   "codemirror_mode": {
    "name": "ipython",
    "version": 3
   },
   "file_extension": ".py",
   "mimetype": "text/x-python",
   "name": "python",
   "nbconvert_exporter": "python",
   "pygments_lexer": "ipython3",
   "version": "3.6.5"
  }
 },
 "nbformat": 4,
 "nbformat_minor": 2
}
